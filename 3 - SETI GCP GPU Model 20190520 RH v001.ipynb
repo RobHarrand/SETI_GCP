{
 "cells": [
  {
   "cell_type": "markdown",
   "metadata": {},
   "source": [
    "# Step 3: Create the Model"
   ]
  },
  {
   "cell_type": "markdown",
   "metadata": {},
   "source": [
    "Install missing libraries"
   ]
  },
  {
   "cell_type": "code",
   "execution_count": 1,
   "metadata": {},
   "outputs": [
    {
     "name": "stdout",
     "output_type": "stream",
     "text": [
      "Collecting keras\n",
      "  Using cached https://files.pythonhosted.org/packages/5e/10/aa32dad071ce52b5502266b5c659451cfd6ffcbf14e6c8c4f16c0ff5aaab/Keras-2.2.4-py2.py3-none-any.whl\n",
      "Collecting keras-preprocessing>=1.0.5 (from keras)\n",
      "  Using cached https://files.pythonhosted.org/packages/28/6a/8c1f62c37212d9fc441a7e26736df51ce6f0e38455816445471f10da4f0a/Keras_Preprocessing-1.1.0-py2.py3-none-any.whl\n",
      "Requirement already satisfied: pyyaml in /usr/local/envs/py2env/lib/python2.7/site-packages (from keras) (3.13)\n",
      "Requirement already satisfied: scipy>=0.14 in /usr/local/envs/py2env/lib/python2.7/site-packages (from keras) (1.0.0)\n",
      "Requirement already satisfied: numpy>=1.9.1 in /usr/local/envs/py2env/lib/python2.7/site-packages (from keras) (1.14.0)\n",
      "Requirement already satisfied: six>=1.9.0 in /usr/local/envs/py2env/lib/python2.7/site-packages (from keras) (1.10.0)\n",
      "Collecting keras-applications>=1.0.6 (from keras)\n",
      "Requirement already satisfied: h5py in /usr/local/envs/py2env/lib/python2.7/site-packages (from keras) (2.7.1)\n",
      "Installing collected packages: keras-preprocessing, keras-applications, keras\n",
      "Successfully installed keras-2.2.4 keras-applications-1.0.8 keras-preprocessing-1.1.0\n",
      "Collecting scikit-plot\n",
      "Requirement already satisfied: scikit-learn>=0.18 in /usr/local/envs/py2env/lib/python2.7/site-packages (from scikit-plot) (0.19.1)\n",
      "Requirement already satisfied: matplotlib>=1.4.0 in /usr/local/envs/py2env/lib/python2.7/site-packages (from scikit-plot) (2.1.2)\n",
      "Collecting joblib>=0.10 (from scikit-plot)\n",
      "  Using cached https://files.pythonhosted.org/packages/cd/c1/50a758e8247561e58cb87305b1e90b171b8c767b15b12a1734001f41d356/joblib-0.13.2-py2.py3-none-any.whl\n",
      "Requirement already satisfied: scipy>=0.9 in /usr/local/envs/py2env/lib/python2.7/site-packages (from scikit-plot) (1.0.0)\n",
      "Requirement already satisfied: numpy>=1.7.1 in /usr/local/envs/py2env/lib/python2.7/site-packages (from matplotlib>=1.4.0->scikit-plot) (1.14.0)\n",
      "Requirement already satisfied: six>=1.10 in /usr/local/envs/py2env/lib/python2.7/site-packages (from matplotlib>=1.4.0->scikit-plot) (1.10.0)\n",
      "Requirement already satisfied: python-dateutil>=2.1 in /usr/local/envs/py2env/lib/python2.7/site-packages (from matplotlib>=1.4.0->scikit-plot) (2.5.0)\n",
      "Requirement already satisfied: backports.functools_lru_cache in /usr/local/envs/py2env/lib/python2.7/site-packages (from matplotlib>=1.4.0->scikit-plot) (1.5)\n",
      "Requirement already satisfied: subprocess32 in /usr/local/envs/py2env/lib/python2.7/site-packages (from matplotlib>=1.4.0->scikit-plot) (3.5.4)\n",
      "Requirement already satisfied: pytz in /usr/local/envs/py2env/lib/python2.7/site-packages (from matplotlib>=1.4.0->scikit-plot) (2018.4)\n",
      "Requirement already satisfied: cycler>=0.10 in /usr/local/envs/py2env/lib/python2.7/site-packages (from matplotlib>=1.4.0->scikit-plot) (0.10.0)\n",
      "Requirement already satisfied: pyparsing!=2.0.4,!=2.1.2,!=2.1.6,>=2.0.1 in /usr/local/envs/py2env/lib/python2.7/site-packages (from matplotlib>=1.4.0->scikit-plot) (2.4.0)\n",
      "Installing collected packages: joblib, scikit-plot\n",
      "Successfully installed joblib-0.13.2 scikit-plot-0.3.7\n",
      "Collecting blimpy\n",
      "Collecting cython (from blimpy)\n",
      "  Using cached https://files.pythonhosted.org/packages/7b/92/b055b75952d7fdb2a3d1601bd83d7c13417bd85912587a55ea37be5f6c71/Cython-0.29.11-cp27-cp27mu-manylinux1_x86_64.whl\n",
      "Requirement already satisfied: matplotlib<3.0; python_version == \"2.7\" in /usr/local/envs/py2env/lib/python2.7/site-packages (from blimpy) (2.1.2)\n",
      "Collecting astropy<3.0; python_version == \"2.7\" (from blimpy)\n",
      "  Using cached https://files.pythonhosted.org/packages/e3/0f/c199189d9f2a6b1a60177788b00a6fcf2a7fa8f3d63f17b2e496810dade9/astropy-2.0.14-cp27-cp27mu-manylinux1_x86_64.whl\n",
      "Requirement already satisfied: scipy in /usr/local/envs/py2env/lib/python2.7/site-packages (from blimpy) (1.0.0)\n",
      "Requirement already satisfied: numpy in /usr/local/envs/py2env/lib/python2.7/site-packages (from blimpy) (1.14.0)\n",
      "Requirement already satisfied: h5py in /usr/local/envs/py2env/lib/python2.7/site-packages (from blimpy) (2.7.1)\n",
      "Requirement already satisfied: six>=1.10 in /usr/local/envs/py2env/lib/python2.7/site-packages (from matplotlib<3.0; python_version == \"2.7\"->blimpy) (1.10.0)\n",
      "Requirement already satisfied: python-dateutil>=2.1 in /usr/local/envs/py2env/lib/python2.7/site-packages (from matplotlib<3.0; python_version == \"2.7\"->blimpy) (2.5.0)\n",
      "Requirement already satisfied: backports.functools_lru_cache in /usr/local/envs/py2env/lib/python2.7/site-packages (from matplotlib<3.0; python_version == \"2.7\"->blimpy) (1.5)\n",
      "Requirement already satisfied: subprocess32 in /usr/local/envs/py2env/lib/python2.7/site-packages (from matplotlib<3.0; python_version == \"2.7\"->blimpy) (3.5.4)\n",
      "Requirement already satisfied: pytz in /usr/local/envs/py2env/lib/python2.7/site-packages (from matplotlib<3.0; python_version == \"2.7\"->blimpy) (2018.4)\n",
      "Requirement already satisfied: cycler>=0.10 in /usr/local/envs/py2env/lib/python2.7/site-packages (from matplotlib<3.0; python_version == \"2.7\"->blimpy) (0.10.0)\n",
      "Requirement already satisfied: pyparsing!=2.0.4,!=2.1.2,!=2.1.6,>=2.0.1 in /usr/local/envs/py2env/lib/python2.7/site-packages (from matplotlib<3.0; python_version == \"2.7\"->blimpy) (2.4.0)\n",
      "Collecting pytest<3.7,>=2.8 (from astropy<3.0; python_version == \"2.7\"->blimpy)\n",
      "  Using cached https://files.pythonhosted.org/packages/d8/e9/73246a565c34c5f203dd78bc2382e0e93aa7a249cdaeba709099eb1bc701/pytest-3.6.4-py2.py3-none-any.whl\n",
      "Collecting pluggy<0.8,>=0.5 (from pytest<3.7,>=2.8->astropy<3.0; python_version == \"2.7\"->blimpy)\n",
      "  Using cached https://files.pythonhosted.org/packages/f5/f1/5a93c118663896d83f7bcbfb7f657ce1d0c0d617e6b4a443a53abcc658ca/pluggy-0.7.1-py2.py3-none-any.whl\n",
      "Collecting atomicwrites>=1.0 (from pytest<3.7,>=2.8->astropy<3.0; python_version == \"2.7\"->blimpy)\n",
      "  Using cached https://files.pythonhosted.org/packages/52/90/6155aa926f43f2b2a22b01be7241be3bfd1ceaf7d0b3267213e8127d41f4/atomicwrites-1.3.0-py2.py3-none-any.whl\n",
      "Collecting more-itertools>=4.0.0 (from pytest<3.7,>=2.8->astropy<3.0; python_version == \"2.7\"->blimpy)\n",
      "  Using cached https://files.pythonhosted.org/packages/2f/9d/dcfe59e213093695f108508af1214cf9cd95cc5489e46877ec5cb56369e5/more_itertools-5.0.0-py2-none-any.whl\n",
      "Requirement already satisfied: setuptools in /usr/local/envs/py2env/lib/python2.7/site-packages (from pytest<3.7,>=2.8->astropy<3.0; python_version == \"2.7\"->blimpy) (41.0.1)\n",
      "Collecting attrs>=17.4.0 (from pytest<3.7,>=2.8->astropy<3.0; python_version == \"2.7\"->blimpy)\n",
      "  Using cached https://files.pythonhosted.org/packages/23/96/d828354fa2dbdf216eaa7b7de0db692f12c234f7ef888cc14980ef40d1d2/attrs-19.1.0-py2.py3-none-any.whl\n",
      "Collecting py>=1.5.0 (from pytest<3.7,>=2.8->astropy<3.0; python_version == \"2.7\"->blimpy)\n",
      "  Using cached https://files.pythonhosted.org/packages/76/bc/394ad449851729244a97857ee14d7cba61ddb268dce3db538ba2f2ba1f0f/py-1.8.0-py2.py3-none-any.whl\n",
      "Requirement already satisfied: funcsigs; python_version < \"3.0\" in /usr/local/envs/py2env/lib/python2.7/site-packages (from pytest<3.7,>=2.8->astropy<3.0; python_version == \"2.7\"->blimpy) (1.0.0)\n",
      "Requirement already satisfied: ordereddict in /usr/local/envs/py2env/lib/python2.7/site-packages (from funcsigs; python_version < \"3.0\"->pytest<3.7,>=2.8->astropy<3.0; python_version == \"2.7\"->blimpy) (1.1)\n",
      "Installing collected packages: cython, pluggy, atomicwrites, more-itertools, attrs, py, pytest, astropy, blimpy\n",
      "Successfully installed astropy-2.0.14 atomicwrites-1.3.0 attrs-19.1.0 blimpy-1.3.5 cython-0.29.11 more-itertools-5.0.0 pluggy-0.7.1 py-1.8.0 pytest-3.6.4\n",
      "Collecting opencv-python-headless\n",
      "  Using cached https://files.pythonhosted.org/packages/d6/ad/a6b856f0bb7a1e7449ae20358956741fdc180534dbe70737d2de22dfb2fa/opencv_python_headless-4.1.0.25-cp27-cp27mu-manylinux1_x86_64.whl\n",
      "Requirement already satisfied: numpy>=1.11.1 in /usr/local/envs/py2env/lib/python2.7/site-packages (from opencv-python-headless) (1.14.0)\n",
      "Installing collected packages: opencv-python-headless\n",
      "Successfully installed opencv-python-headless-4.1.0.25\n"
     ]
    }
   ],
   "source": [
    "!pip install keras\n",
    "!pip install scikit-plot\n",
    "!pip install blimpy\n",
    "!pip install opencv-python-headless"
   ]
  },
  {
   "cell_type": "markdown",
   "metadata": {},
   "source": [
    "Import relevant libraries"
   ]
  },
  {
   "cell_type": "code",
   "execution_count": 2,
   "metadata": {},
   "outputs": [
    {
     "name": "stderr",
     "output_type": "stream",
     "text": [
      "/usr/local/envs/py2env/lib/python2.7/site-packages/h5py/__init__.py:36: FutureWarning: Conversion of the second argument of issubdtype from `float` to `np.floating` is deprecated. In future, it will be treated as `np.float64 == np.dtype(float).type`.\n",
      "  from ._conv import register_converters as _register_converters\n",
      "Using TensorFlow backend.\n"
     ]
    }
   ],
   "source": [
    "import os\n",
    "from tensorflow import keras\n",
    "import numpy as np\n",
    "import math\n",
    "#from PIL import Image\n",
    "import pandas as pd\n",
    "from sklearn.metrics import confusion_matrix, roc_curve, auc, accuracy_score\n",
    "from keras.models import load_model\n",
    "from keras.preprocessing import image\n",
    "import scikitplot as skplt\n",
    "import seaborn as sns\n",
    "import matplotlib.pyplot as plt\n",
    "import matplotlib.image as mpimg\n",
    "import warnings\n",
    "import google.datalab.storage as storage #To access cloud storage buckets\n",
    "import random\n",
    "import cv2\n",
    "warnings.filterwarnings('ignore')"
   ]
  },
  {
   "cell_type": "markdown",
   "metadata": {},
   "source": [
    "Get Images Lists"
   ]
  },
  {
   "cell_type": "code",
   "execution_count": 6,
   "metadata": {},
   "outputs": [],
   "source": [
    "# line_train = !ls train/line/** | wc -l\n",
    "# print(str(line_train) + ' line train files')\n",
    "# line_valid = !ls valid/line/** | wc -l\n",
    "# print(str(line_valid) + ' line valid files')\n",
    "# line_test = !ls test/line/** | wc -l\n",
    "# print(str(line_test) + ' line test files')\n",
    "\n",
    "# wibble_train = !ls train/wibble/** | wc -l\n",
    "# print(str(wibble_train) + ' wibble train files')\n",
    "# wibble_valid = !ls valid/wibble/** | wc -l\n",
    "# print(str(wibble_valid) + ' wibble valid files')\n",
    "# wibble_test = !ls test/wibble/** | wc -l\n",
    "# print(str(wibble_test) + ' wibble test files')\n",
    "\n",
    "# curve_train = !ls train/curve/** | wc -l\n",
    "# print(str(curve_train) + ' curve train files')\n",
    "# curve_valid = !ls valid/curve/** | wc -l\n",
    "# print(str(curve_valid) + ' curve valid files')\n",
    "# curve_test = !ls test/curve/** | wc -l\n",
    "# print(str(curve_test) + ' curve test files')\n",
    "\n",
    "# noise_train = !ls train/noise/** | wc -l\n",
    "# print(str(noise_train) + ' noise train files')\n",
    "# noise_valid = !ls valid/noise/** | wc -l\n",
    "# print(str(noise_valid) + ' noise valid files')\n",
    "# noise_test = !ls test/noise/** | wc -l\n",
    "# print(str(noise_test) + ' noise test files')\n",
    "\n",
    "# chopped_line_train = !ls train/chopped_line/** | wc -l\n",
    "# print(str(chopped_line_train) + ' chopped_line train files')\n",
    "# chopped_line_valid = !ls valid/chopped_line/** | wc -l\n",
    "# print(str(chopped_line_valid) + ' chopped_line valid files')\n",
    "# chopped_line_test = !ls test/chopped_line/** | wc -l\n",
    "# print(str(chopped_line_test) + ' chopped_line test files')\n",
    "\n",
    "# brightpixel_train = !ls train/brightpixel/** | wc -l\n",
    "# print(str(brightpixel_train) + ' brightpixel train files')\n",
    "# brightpixel_valid = !ls valid/brightpixel/** | wc -l\n",
    "# print(str(brightpixel_valid) + ' brightpixel valid files')\n",
    "# brightpixel_test = !ls test/brightpixel/** | wc -l\n",
    "# print(str(brightpixel_test) + ' brightpixel test files')"
   ]
  },
  {
   "cell_type": "markdown",
   "metadata": {},
   "source": [
    "Setup the training"
   ]
  },
  {
   "cell_type": "code",
   "execution_count": 8,
   "metadata": {},
   "outputs": [],
   "source": [
    "train_dir = 'train/'\n",
    "validation_dir = 'valid/'\n",
    "test_dir = 'test/'\n",
    "\n",
    "img_dim  = 197"
   ]
  },
  {
   "cell_type": "code",
   "execution_count": 9,
   "metadata": {},
   "outputs": [],
   "source": [
    "#Generators\n",
    "train_datagen = keras.preprocessing.image.ImageDataGenerator(rescale=1. / 255)\n",
    "\n",
    "# Note that the validation data shouldn't be augmented!\n",
    "validation_datagen = keras.preprocessing.image.ImageDataGenerator(rescale=1. / 255)  \n",
    "test_datagen = keras.preprocessing.image.ImageDataGenerator(rescale=1. / 255) "
   ]
  },
  {
   "cell_type": "code",
   "execution_count": 10,
   "metadata": {},
   "outputs": [
    {
     "name": "stdout",
     "output_type": "stream",
     "text": [
      "Found 42500 images belonging to 5 classes.\n"
     ]
    }
   ],
   "source": [
    "training_batch_size = 32\n",
    "validation_batch_size = 32\n",
    "\n",
    "train_generator = train_datagen.flow_from_directory(\n",
    "  train_dir,                                                  \n",
    "  #classes = ('noise', 'line', 'wibble', 'chopped_line', 'curve', 'brightpixel'),\n",
    "  classes = ('noise', 'line', 'wibble', 'chopped_line', 'curve'),\n",
    "  target_size = (img_dim, img_dim),            \n",
    "  batch_size = training_batch_size,\n",
    "  class_mode = \"categorical\",\n",
    "  shuffle = True,\n",
    "  seed = 123)"
   ]
  },
  {
   "cell_type": "code",
   "execution_count": 11,
   "metadata": {},
   "outputs": [
    {
     "name": "stdout",
     "output_type": "stream",
     "text": [
      "Found 5000 images belonging to 5 classes.\n"
     ]
    }
   ],
   "source": [
    "validation_generator = validation_datagen.flow_from_directory(\n",
    "  validation_dir,\n",
    "  #classes = ('noise', 'line', 'wibble', 'chopped_line', 'curve', 'brightpixel'),\n",
    "  classes = ('noise', 'line', 'wibble', 'chopped_line', 'curve'),\n",
    "  target_size = (img_dim, img_dim),\n",
    "  batch_size = validation_batch_size,\n",
    "  class_mode = \"categorical\",\n",
    "  shuffle = True,\n",
    "  seed = 123)"
   ]
  },
  {
   "cell_type": "code",
   "execution_count": 12,
   "metadata": {},
   "outputs": [
    {
     "name": "stdout",
     "output_type": "stream",
     "text": [
      "Found 2500 images belonging to 5 classes.\n"
     ]
    }
   ],
   "source": [
    "#test_size = 3000\n",
    "test_size = 2500\n",
    "test_batch_size = 1\n",
    "\n",
    "test_generator = test_datagen.flow_from_directory(\n",
    "  test_dir,\n",
    "  #classes = ('noise', 'line', 'wibble', 'chopped_line', 'curve', 'brightpixel'),\n",
    "  classes = ('noise', 'line', 'wibble', 'chopped_line', 'curve'),\n",
    "  target_size = (img_dim, img_dim),\n",
    "  batch_size = test_batch_size,\n",
    "  class_mode = \"categorical\",\n",
    "  shuffle = False)"
   ]
  },
  {
   "cell_type": "markdown",
   "metadata": {},
   "source": [
    "Specify the model"
   ]
  },
  {
   "cell_type": "code",
   "execution_count": 13,
   "metadata": {},
   "outputs": [],
   "source": [
    "input_shape = (img_dim, img_dim, 3)\n",
    "\n",
    "model = keras.models.Sequential()\n",
    "model.add(keras.layers.Conv2D(32, (10, 10), input_shape=input_shape))\n",
    "model.add(keras.layers.Activation('relu'))\n",
    "model.add(keras.layers.MaxPooling2D(pool_size=(2, 2)))\n",
    "model.add(keras.layers.Dropout(0.25))\n",
    "\n",
    "model.add(keras.layers.Conv2D(32, (5, 5)))\n",
    "model.add(keras.layers.Activation('relu'))\n",
    "model.add(keras.layers.MaxPooling2D(pool_size=(2, 2)))\n",
    "model.add(keras.layers.Dropout(0.25))\n",
    "\n",
    "model.add(keras.layers.Conv2D(64, (3, 3)))\n",
    "model.add(keras.layers.Activation('relu'))\n",
    "model.add(keras.layers.MaxPooling2D(pool_size=(2, 2)))\n",
    "model.add(keras.layers.Dropout(0.25))\n",
    "\n",
    "model.add(keras.layers.Flatten())\n",
    "model.add(keras.layers.Dense(img_dim, activation=\"relu\"))\n",
    "model.add(keras.layers.Dropout(0.25))\n",
    "#model.add(keras.layers.Dense(6, activation=\"softmax\"))\n",
    "model.add(keras.layers.Dense(5, activation=\"softmax\"))"
   ]
  },
  {
   "cell_type": "code",
   "execution_count": 14,
   "metadata": {},
   "outputs": [
    {
     "name": "stdout",
     "output_type": "stream",
     "text": [
      "_________________________________________________________________\n",
      "Layer (type)                 Output Shape              Param #   \n",
      "=================================================================\n",
      "conv2d_1 (Conv2D)            (None, 188, 188, 32)      9632      \n",
      "_________________________________________________________________\n",
      "activation_1 (Activation)    (None, 188, 188, 32)      0         \n",
      "_________________________________________________________________\n",
      "max_pooling2d_1 (MaxPooling2 (None, 94, 94, 32)        0         \n",
      "_________________________________________________________________\n",
      "dropout_1 (Dropout)          (None, 94, 94, 32)        0         \n",
      "_________________________________________________________________\n",
      "conv2d_2 (Conv2D)            (None, 90, 90, 32)        25632     \n",
      "_________________________________________________________________\n",
      "activation_2 (Activation)    (None, 90, 90, 32)        0         \n",
      "_________________________________________________________________\n",
      "max_pooling2d_2 (MaxPooling2 (None, 45, 45, 32)        0         \n",
      "_________________________________________________________________\n",
      "dropout_2 (Dropout)          (None, 45, 45, 32)        0         \n",
      "_________________________________________________________________\n",
      "conv2d_3 (Conv2D)            (None, 43, 43, 64)        18496     \n",
      "_________________________________________________________________\n",
      "activation_3 (Activation)    (None, 43, 43, 64)        0         \n",
      "_________________________________________________________________\n",
      "max_pooling2d_3 (MaxPooling2 (None, 21, 21, 64)        0         \n",
      "_________________________________________________________________\n",
      "dropout_3 (Dropout)          (None, 21, 21, 64)        0         \n",
      "_________________________________________________________________\n",
      "flatten_1 (Flatten)          (None, 28224)             0         \n",
      "_________________________________________________________________\n",
      "dense_1 (Dense)              (None, 197)               5560325   \n",
      "_________________________________________________________________\n",
      "dropout_4 (Dropout)          (None, 197)               0         \n",
      "_________________________________________________________________\n",
      "dense_2 (Dense)              (None, 5)                 990       \n",
      "=================================================================\n",
      "Total params: 5,615,075\n",
      "Trainable params: 5,615,075\n",
      "Non-trainable params: 0\n",
      "_________________________________________________________________\n"
     ]
    }
   ],
   "source": [
    "model.summary()"
   ]
  },
  {
   "cell_type": "markdown",
   "metadata": {},
   "source": [
    "Set the optimiser and then train"
   ]
  },
  {
   "cell_type": "code",
   "execution_count": 21,
   "metadata": {},
   "outputs": [],
   "source": [
    "opt = keras.optimizers.RMSprop(lr=1e-4, rho=0.9, epsilon=None, decay=0.0)\n",
    "model.compile(loss = \"categorical_crossentropy\",  optimizer = opt, metrics=[\"accuracy\"])"
   ]
  },
  {
   "cell_type": "code",
   "execution_count": 23,
   "metadata": {},
   "outputs": [
    {
     "name": "stdout",
     "output_type": "stream",
     "text": [
      "Epoch 1/20\n",
      "32/32 [==============================] - 163s 5s/step - loss: 1.6001 - acc: 0.2754 - val_loss: 1.5357 - val_acc: 0.2979\n",
      "Epoch 2/20\n",
      "32/32 [==============================] - 157s 5s/step - loss: 1.5096 - acc: 0.3184 - val_loss: 1.5078 - val_acc: 0.3125\n",
      "Epoch 3/20\n",
      "32/32 [==============================] - 172s 5s/step - loss: 1.5045 - acc: 0.2979 - val_loss: 1.5044 - val_acc: 0.2969\n",
      "Epoch 4/20\n",
      "32/32 [==============================] - 165s 5s/step - loss: 1.4737 - acc: 0.3301 - val_loss: 1.4870 - val_acc: 0.3262\n",
      "Epoch 5/20\n",
      "32/32 [==============================] - 162s 5s/step - loss: 1.4709 - acc: 0.3193 - val_loss: 1.4803 - val_acc: 0.3389\n",
      "Epoch 6/20\n",
      "32/32 [==============================] - 158s 5s/step - loss: 1.4430 - acc: 0.3506 - val_loss: 1.4002 - val_acc: 0.4980\n",
      "Epoch 7/20\n",
      "32/32 [==============================] - 217s 7s/step - loss: 1.3158 - acc: 0.4678 - val_loss: 1.3221 - val_acc: 0.5264\n",
      "Epoch 8/20\n",
      "32/32 [==============================] - 162s 5s/step - loss: 1.1975 - acc: 0.5469 - val_loss: 1.1720 - val_acc: 0.5469\n",
      "Epoch 9/20\n",
      "32/32 [==============================] - 158s 5s/step - loss: 1.1278 - acc: 0.5576 - val_loss: 1.1054 - val_acc: 0.6025\n",
      "Epoch 10/20\n",
      "32/32 [==============================] - 161s 5s/step - loss: 1.0576 - acc: 0.6025 - val_loss: 1.0480 - val_acc: 0.6152\n",
      "Epoch 11/20\n",
      "32/32 [==============================] - 165s 5s/step - loss: 0.9923 - acc: 0.6270 - val_loss: 1.0088 - val_acc: 0.6201\n",
      "Epoch 12/20\n",
      "32/32 [==============================] - 167s 5s/step - loss: 0.9393 - acc: 0.6270 - val_loss: 0.9646 - val_acc: 0.6836\n",
      "Epoch 13/20\n",
      "32/32 [==============================] - 168s 5s/step - loss: 0.9378 - acc: 0.6562 - val_loss: 0.9467 - val_acc: 0.6992\n",
      "Epoch 14/20\n",
      "32/32 [==============================] - 166s 5s/step - loss: 0.9023 - acc: 0.6729 - val_loss: 0.9249 - val_acc: 0.6895\n",
      "Epoch 15/20\n",
      "32/32 [==============================] - 167s 5s/step - loss: 0.8849 - acc: 0.6699 - val_loss: 0.9287 - val_acc: 0.6611\n",
      "Epoch 16/20\n",
      "32/32 [==============================] - 167s 5s/step - loss: 0.8912 - acc: 0.6836 - val_loss: 0.9205 - val_acc: 0.6641\n",
      "Epoch 17/20\n",
      "32/32 [==============================] - 168s 5s/step - loss: 0.8760 - acc: 0.6875 - val_loss: 0.9088 - val_acc: 0.7031\n",
      "Epoch 18/20\n",
      "32/32 [==============================] - 162s 5s/step - loss: 0.8449 - acc: 0.7126 - val_loss: 0.8523 - val_acc: 0.7178\n",
      "Epoch 19/20\n",
      "32/32 [==============================] - 163s 5s/step - loss: 0.8843 - acc: 0.6797 - val_loss: 0.8831 - val_acc: 0.6768\n",
      "Epoch 20/20\n",
      "32/32 [==============================] - 166s 5s/step - loss: 0.8124 - acc: 0.7070 - val_loss: 0.8639 - val_acc: 0.7070\n"
     ]
    }
   ],
   "source": [
    "#Train\n",
    "\n",
    "training_step_size = 32\n",
    "validation_step_size = 32\n",
    "\n",
    "history = model.fit_generator(\n",
    "  train_generator,\n",
    "  steps_per_epoch = training_step_size,\n",
    "  epochs = 20,\n",
    "  validation_data = validation_generator,\n",
    "  validation_steps = validation_step_size,\n",
    "  verbose = 1,\n",
    ")"
   ]
  },
  {
   "cell_type": "code",
   "execution_count": 24,
   "metadata": {},
   "outputs": [
    {
     "data": {
      "image/png": "[encoded data removed]",
      "text/plain": [
       "<matplotlib.figure.Figure at 0x7fe678823150>"
      ]
     },
     "metadata": {},
     "output_type": "display_data"
    },
    {
     "data": {
      "image/png": "[encoded data removed]",
      "text/plain": [
       "<matplotlib.figure.Figure at 0x7fe6785eb590>"
      ]
     },
     "metadata": {},
     "output_type": "display_data"
    }
   ],
   "source": [
    "plt.plot(history.history['acc'])\n",
    "plt.plot(history.history['val_acc'])\n",
    "plt.title('model accuracy')\n",
    "plt.ylabel('accuracy')\n",
    "plt.xlabel('epoch')\n",
    "plt.legend(['train', 'test'], loc='upper left')\n",
    "plt.show()\n",
    "# summarize history for loss\n",
    "plt.plot(history.history['loss'])\n",
    "plt.plot(history.history['val_loss'])\n",
    "plt.title('model loss')\n",
    "plt.ylabel('loss')\n",
    "plt.xlabel('epoch')\n",
    "plt.legend(['train', 'test'], loc='upper left')\n",
    "plt.show()"
   ]
  },
  {
   "cell_type": "markdown",
   "metadata": {},
   "source": [
    "Save the model then back it up to cloud storage"
   ]
  },
  {
   "cell_type": "code",
   "execution_count": 25,
   "metadata": {},
   "outputs": [],
   "source": [
    "model.save('seti_bespoke_20190705_RH_v01.h5')"
   ]
  },
  {
   "cell_type": "code",
   "execution_count": 20,
   "metadata": {},
   "outputs": [
    {
     "name": "stdout",
     "output_type": "stream",
     "text": [
      "\n",
      "\n",
      "Updates are available for some Cloud SDK components.  To install them,\n",
      "please run:\n",
      "  $ gcloud components update\n",
      "\n",
      "Copying file://seti_bespoke_20190628_RH_v01.h5 [Content-Type=application/octet-stream]...\n",
      "\\ [1 files][ 42.9 MiB/ 42.9 MiB]                                                \n",
      "Operation completed over 1 objects/42.9 MiB.                                     \n"
     ]
    }
   ],
   "source": [
    "!gsutil cp seti_bespoke_20190628_RH_v01.h5 gs://seti_model_backup #copy to bucket"
   ]
  },
  {
   "cell_type": "markdown",
   "metadata": {},
   "source": [
    "Make predictions"
   ]
  },
  {
   "cell_type": "code",
   "execution_count": 15,
   "metadata": {},
   "outputs": [
    {
     "name": "stdout",
     "output_type": "stream",
     "text": [
      "2500/2500 [==============================] - 13s 5ms/step\n"
     ]
    }
   ],
   "source": [
    "predictions = model.predict_generator(test_generator, steps = test_size, verbose = 1)"
   ]
  },
  {
   "cell_type": "code",
   "execution_count": 16,
   "metadata": {},
   "outputs": [],
   "source": [
    "df = pd.DataFrame(predictions)\n",
    "df['filename'] = test_generator.filenames\n",
    "df['truth'] = ''\n",
    "df['truth'] = df['filename'].str.split('/', 1, expand = True)\n",
    "#df['prediction_index'] = df[[0,1,2,3,4,5]].idxmax(axis=1)\n",
    "df['prediction_index'] = df[[0,1,2,3,4]].idxmax(axis=1)\n",
    "\n",
    "df['prediction'] = ''\n",
    "df['prediction'][df['prediction_index'] == 0] = 'noise'\n",
    "df['prediction'][df['prediction_index'] == 1] = 'line'\n",
    "df['prediction'][df['prediction_index'] == 2] = 'wibble'\n",
    "df['prediction'][df['prediction_index'] == 3] = 'chopped_line'\n",
    "df['prediction'][df['prediction_index'] == 4] = 'curve'\n",
    "#df['prediction'][df['prediction_index'] == 5] = 'brightpixel'"
   ]
  },
  {
   "cell_type": "code",
   "execution_count": 17,
   "metadata": {},
   "outputs": [
    {
     "data": {
      "text/html": [
       "<div>\n",
       "<style scoped>\n",
       "    .dataframe tbody tr th:only-of-type {\n",
       "        vertical-align: middle;\n",
       "    }\n",
       "\n",
       "    .dataframe tbody tr th {\n",
       "        vertical-align: top;\n",
       "    }\n",
       "\n",
       "    .dataframe thead th {\n",
       "        text-align: right;\n",
       "    }\n",
       "</style>\n",
       "<table border=\"1\" class=\"dataframe\">\n",
       "  <thead>\n",
       "    <tr style=\"text-align: right;\">\n",
       "      <th></th>\n",
       "      <th>noise</th>\n",
       "      <th>line</th>\n",
       "      <th>wibble</th>\n",
       "      <th>chopped_line</th>\n",
       "      <th>curve</th>\n",
       "      <th>signal</th>\n",
       "    </tr>\n",
       "  </thead>\n",
       "  <tbody>\n",
       "    <tr>\n",
       "      <th>0</th>\n",
       "      <td>414</td>\n",
       "      <td>23</td>\n",
       "      <td>11</td>\n",
       "      <td>43</td>\n",
       "      <td>9</td>\n",
       "      <td>noise</td>\n",
       "    </tr>\n",
       "    <tr>\n",
       "      <th>1</th>\n",
       "      <td>2</td>\n",
       "      <td>459</td>\n",
       "      <td>7</td>\n",
       "      <td>29</td>\n",
       "      <td>3</td>\n",
       "      <td>line</td>\n",
       "    </tr>\n",
       "    <tr>\n",
       "      <th>2</th>\n",
       "      <td>1</td>\n",
       "      <td>68</td>\n",
       "      <td>396</td>\n",
       "      <td>22</td>\n",
       "      <td>13</td>\n",
       "      <td>wibble</td>\n",
       "    </tr>\n",
       "    <tr>\n",
       "      <th>3</th>\n",
       "      <td>6</td>\n",
       "      <td>27</td>\n",
       "      <td>2</td>\n",
       "      <td>448</td>\n",
       "      <td>17</td>\n",
       "      <td>chopped_line</td>\n",
       "    </tr>\n",
       "    <tr>\n",
       "      <th>4</th>\n",
       "      <td>1</td>\n",
       "      <td>11</td>\n",
       "      <td>63</td>\n",
       "      <td>34</td>\n",
       "      <td>391</td>\n",
       "      <td>curve</td>\n",
       "    </tr>\n",
       "  </tbody>\n",
       "</table>\n",
       "</div>"
      ],
      "text/plain": [
       "   noise  line  wibble  chopped_line  curve        signal\n",
       "0    414    23      11            43      9         noise\n",
       "1      2   459       7            29      3          line\n",
       "2      1    68     396            22     13        wibble\n",
       "3      6    27       2           448     17  chopped_line\n",
       "4      1    11      63            34    391         curve"
      ]
     },
     "execution_count": 17,
     "metadata": {},
     "output_type": "execute_result"
    }
   ],
   "source": [
    "cm = confusion_matrix(df['truth'], df['prediction'])\n",
    "\n",
    "cm_df = pd.DataFrame(cm)\n",
    "\n",
    "#cm_df.columns = ['noise', 'line', 'wibble', 'chopped_line', 'curve', 'brightpixel']\n",
    "#cm_df['signal'] = ('noise', 'line', 'wibble', 'chopped_line', 'curve', 'brightpixel')\n",
    "\n",
    "cm_df.columns = ['noise', 'line', 'wibble', 'chopped_line', 'curve']\n",
    "cm_df['signal'] = ('noise', 'line', 'wibble', 'chopped_line', 'curve')\n",
    "\n",
    "cm_df"
   ]
  },
  {
   "cell_type": "code",
   "execution_count": 18,
   "metadata": {},
   "outputs": [
    {
     "data": {
      "text/plain": [
       "0.8432"
      ]
     },
     "execution_count": 18,
     "metadata": {},
     "output_type": "execute_result"
    }
   ],
   "source": [
    "accuracy = accuracy_score(df['truth'], df['prediction'])\n",
    "accuracy"
   ]
  }
 ],
 "metadata": {
  "kernelspec": {
   "display_name": "Python 3",
   "language": "python",
   "name": "python3"
  },
  "language_info": {
   "codemirror_mode": {
    "name": "ipython",
    "version": 3
   },
   "file_extension": ".py",
   "mimetype": "text/x-python",
   "name": "python",
   "nbconvert_exporter": "python",
   "pygments_lexer": "ipython3",
   "version": "3.6.4"
  }
 },
 "nbformat": 4,
 "nbformat_minor": 2
}
