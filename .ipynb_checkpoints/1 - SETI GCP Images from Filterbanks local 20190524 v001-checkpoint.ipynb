{
 "cells": [
  {
   "cell_type": "markdown",
   "metadata": {},
   "source": [
    "# Step 1: Create PNG Images from Filterbank Files"
   ]
  },
  {
   "cell_type": "markdown",
   "metadata": {},
   "source": [
    "Load relevant libraries"
   ]
  },
  {
   "cell_type": "code",
   "execution_count": 1,
   "metadata": {},
   "outputs": [],
   "source": [
    "import hdf5plugin\n",
    "import h5py\n",
    "import pylab as plt\n",
    "import numpy as np\n",
    "import PIL\n",
    "import os\n",
    "from scipy import ndimage, misc\n",
    "import pandas as pd\n",
    "import matplotlib\n",
    "import matplotlib.pylab as plt\n",
    "from blimpy import Filterbank\n",
    "from blimpy import Waterfall\n",
    "from blimpy.utils import db, lin, rebin, closest\n",
    "import cv2"
   ]
  },
  {
   "cell_type": "markdown",
   "metadata": {},
   "source": [
    "Some useful functions"
   ]
  },
  {
   "cell_type": "code",
   "execution_count": 3,
   "metadata": {},
   "outputs": [],
   "source": [
    "def get_slice(file_location, f_range, f_start):\n",
    "\n",
    "  f_stop = f_start + f_range\n",
    "  t_start = 0 \n",
    "  t_stop = 16\n",
    "  MAX_IMSHOW_POINTS = (8192, 4096)\n",
    "\n",
    "  filterbank = Waterfall(file_location, f_start=f_start, f_stop=f_stop,t_start=t_start,t_stop=t_stop)\n",
    "\n",
    "  plot_f, data_temp = filterbank.grab_data()\n",
    "\n",
    "  if filterbank.header[b'foff'] < 0:\n",
    "          data_temp = data_temp[..., ::-1] # Reverse data\n",
    "          plot_f = plot_f[::-1]\n",
    "\n",
    "  dec_fac_x, dec_fac_y = 1, 1\n",
    "\n",
    "  if data_temp.shape[0] > MAX_IMSHOW_POINTS[0]:\n",
    "      dec_fac_x = int(data_temp.shape[0] / MAX_IMSHOW_POINTS[0])\n",
    "\n",
    "  if data_temp.shape[1] > MAX_IMSHOW_POINTS[1]:\n",
    "      dec_fac_y =  int(data_temp.shape[1] /  MAX_IMSHOW_POINTS[1])\n",
    "\n",
    "  data_temp = rebin(data_temp, dec_fac_x, dec_fac_y)\n",
    "\n",
    "  extent = filterbank._calc_extent(plot_f=plot_f,plot_t=filterbank.timestamps)\n",
    "\n",
    "  A1_avg = np.mean(data_temp)\n",
    "  A1_max = data_temp.max()\n",
    "  A1_std = np.std(data_temp)\n",
    "\n",
    "  #some sort of scaling here? Or, save the individual files first?\n",
    "\n",
    "  return(data_temp, extent)\n",
    "\n",
    "# predicting images\n",
    "\n",
    "window = 0.002\n",
    "\n",
    "\n",
    "def save_image(filename, fstart, scan_letter, iteration):\n",
    "\n",
    "    data_slice, extent = get_slice(filename, f_range=window, f_start=fstart)\n",
    "    \n",
    "    plt.rcParams[\"axes.grid\"] = False\n",
    "\n",
    "    plt.imshow(data_slice,\n",
    "               aspect='auto',\n",
    "               origin='lower',\n",
    "               rasterized=True,\n",
    "               interpolation='none',\n",
    "               extent=extent,\n",
    "               cmap='viridis')\n",
    "    \n",
    "    cur_axes = plt.gca()\n",
    "    cur_axes.axes.get_xaxis().set_visible(False)\n",
    "    cur_axes.axes.get_yaxis().set_visible(False)\n",
    "    \n",
    "    plt.imsave('Images from Filterbank for GCP/' + scan_letter + '/' + scan_letter + '_' + str(iteration) + '.png', data_slice, cmap='viridis')\n",
    "\n",
    "    plt.close()"
   ]
  },
  {
   "cell_type": "markdown",
   "metadata": {},
   "source": [
    "Have a look at the size of the filterbanks"
   ]
  },
  {
   "cell_type": "code",
   "execution_count": 4,
   "metadata": {},
   "outputs": [
    {
     "name": "stdout",
     "output_type": "stream",
     "text": [
      "blimpy.file_wrapper INFO     Skipping loading data ...\n",
      "Each filterbank generates 502441.40625 images!\n",
      "That is 3014648.4375 predictions!\n",
      "Starting f ...1797.94921875\n"
     ]
    }
   ],
   "source": [
    "filename = 'D:/repos_personal/other/SETI/SETI/data/GCP/spliced_blc0001020304050607_guppi_57850_59753_HIP4436_0002.gpuspec.0000.h5'\n",
    "filterbank_head = Waterfall(filename, load_data=False)\n",
    "n = (filterbank_head.container.f_stop - filterbank_head.container.f_start) / window\n",
    "print('Each filterbank generates ' + str(n) + ' images!')\n",
    "print('That is ' + str(n*6) + ' predictions!')\n",
    "print('Starting f ...' + str(filterbank_head.container.f_start))"
   ]
  },
  {
   "cell_type": "markdown",
   "metadata": {},
   "source": [
    "Create folders"
   ]
  },
  {
   "cell_type": "code",
   "execution_count": 4,
   "metadata": {},
   "outputs": [],
   "source": [
    "if not os.path.exists('Images from Filterbank for GCP/A1'):\n",
    "    os.makedirs('Images from Filterbank for GCP/A1')\n",
    "    \n",
    "if not os.path.exists('Images from Filterbank for GCP/B'):\n",
    "    os.makedirs('Images from Filterbank for GCP/B')\n",
    "    \n",
    "if not os.path.exists('Images from Filterbank for GCP/A2'):\n",
    "    os.makedirs('Images from Filterbank for GCP/A2')\n",
    "    \n",
    "if not os.path.exists('Images from Filterbank for GCP/C'):\n",
    "    os.makedirs('Images from Filterbank for GCP/C')\n",
    "    \n",
    "if not os.path.exists('Images from Filterbank for GCP/A3'):\n",
    "    os.makedirs('Images from Filterbank for GCP/A3')\n",
    "\n",
    "if not os.path.exists('Images from Filterbank for GCP/D'):\n",
    "    os.makedirs('Images from Filterbank for GCP/D')"
   ]
  },
  {
   "cell_type": "markdown",
   "metadata": {},
   "source": [
    "Generate the images"
   ]
  },
  {
   "cell_type": "code",
   "execution_count": 5,
   "metadata": {},
   "outputs": [],
   "source": [
    "num = 3000"
   ]
  },
  {
   "cell_type": "code",
   "execution_count": 6,
   "metadata": {},
   "outputs": [
    {
     "name": "stdout",
     "output_type": "stream",
     "text": [
      "blimpy.file_wrapper INFO     Skipping loading data ...\n"
     ]
    }
   ],
   "source": [
    "filename = 'D:/repos_personal/other/SETI/SETI/data/GCP/spliced_blc0001020304050607_guppi_57850_59753_HIP4436_0002.gpuspec.0000.h5'\n",
    "\n",
    "filterbank_head = Waterfall(filename, load_data=False)\n",
    "fstart = filterbank_head.container.f_start\n",
    "\n",
    "for i in range(1,num):\n",
    "    fstart = fstart + window\n",
    "    #print(fstart)\n",
    "    save_image(filename, fstart=fstart, scan_letter='A1', iteration=i)"
   ]
  },
  {
   "cell_type": "code",
   "execution_count": 7,
   "metadata": {},
   "outputs": [
    {
     "name": "stdout",
     "output_type": "stream",
     "text": [
      "blimpy.file_wrapper INFO     Skipping loading data ...\n"
     ]
    }
   ],
   "source": [
    "filename = 'D:/repos_personal/other/SETI/SETI/data/GCP/spliced_blc0001020304050607_guppi_57850_60154_HIP3333_0003.gpuspec.0000.h5'\n",
    "\n",
    "filterbank_head = Waterfall(filename, load_data=False)\n",
    "fstart = filterbank_head.container.f_start\n",
    "\n",
    "for i in range(1,num):\n",
    "    fstart = fstart + window\n",
    "    #print(fstart)\n",
    "    save_image(filename, fstart=fstart, scan_letter='B', iteration=i)"
   ]
  },
  {
   "cell_type": "code",
   "execution_count": 8,
   "metadata": {},
   "outputs": [
    {
     "name": "stdout",
     "output_type": "stream",
     "text": [
      "blimpy.file_wrapper INFO     Skipping loading data ...\n"
     ]
    }
   ],
   "source": [
    "filename = 'D:/repos_personal/other/SETI/SETI/data/GCP/spliced_blc0001020304050607_guppi_57850_60577_HIP4436_0004.gpuspec.0000.h5'\n",
    "\n",
    "filterbank_head = Waterfall(filename, load_data=False)\n",
    "fstart = filterbank_head.container.f_start\n",
    "\n",
    "for i in range(1,num):\n",
    "    fstart = fstart + window\n",
    "    #print(fstart)\n",
    "    save_image(filename, fstart=fstart, scan_letter='A2', iteration=i)"
   ]
  },
  {
   "cell_type": "code",
   "execution_count": 9,
   "metadata": {},
   "outputs": [
    {
     "name": "stdout",
     "output_type": "stream",
     "text": [
      "blimpy.file_wrapper INFO     Skipping loading data ...\n"
     ]
    }
   ],
   "source": [
    "filename = 'D:/repos_personal/other/SETI/SETI/data/GCP/spliced_blc0001020304050607_guppi_57850_61022_HIP3597_0005.gpuspec.0000.h5'\n",
    "\n",
    "filterbank_head = Waterfall(filename, load_data=False)\n",
    "fstart = filterbank_head.container.f_start\n",
    "\n",
    "for i in range(1,num):\n",
    "    fstart = fstart + window\n",
    "    #print(fstart)\n",
    "    save_image(filename, fstart=fstart, scan_letter='C', iteration=i)"
   ]
  },
  {
   "cell_type": "code",
   "execution_count": 10,
   "metadata": {},
   "outputs": [
    {
     "name": "stdout",
     "output_type": "stream",
     "text": [
      "blimpy.file_wrapper INFO     Skipping loading data ...\n"
     ]
    }
   ],
   "source": [
    "filename = 'D:/repos_personal/other/SETI/SETI/data/GCP/spliced_blc0001020304050607_guppi_57850_61507_HIP4436_0006.gpuspec.0000.h5'\n",
    "\n",
    "filterbank_head = Waterfall(filename, load_data=False)\n",
    "fstart = filterbank_head.container.f_start\n",
    "\n",
    "for i in range(1,num):\n",
    "    fstart = fstart + window\n",
    "    #print(fstart)\n",
    "    save_image(filename, fstart=fstart, scan_letter='A3', iteration=i)"
   ]
  },
  {
   "cell_type": "code",
   "execution_count": 11,
   "metadata": {},
   "outputs": [
    {
     "name": "stdout",
     "output_type": "stream",
     "text": [
      "blimpy.file_wrapper INFO     Skipping loading data ...\n"
     ]
    }
   ],
   "source": [
    "filename = 'D:/repos_personal/other/SETI/SETI/data/GCP/spliced_blc0001020304050607_guppi_57850_61998_HIP3677_0007.gpuspec.0000.h5'\n",
    "\n",
    "filterbank_head = Waterfall(filename, load_data=False)\n",
    "fstart = filterbank_head.container.f_start\n",
    "\n",
    "for i in range(1,num):\n",
    "    fstart = fstart + window\n",
    "    #print(fstart)\n",
    "    save_image(filename, fstart=fstart, scan_letter='D', iteration=i)"
   ]
  },
  {
   "cell_type": "code",
   "execution_count": null,
   "metadata": {},
   "outputs": [],
   "source": []
  }
 ],
 "metadata": {
  "kernelspec": {
   "display_name": "Python 3",
   "language": "python",
   "name": "python3"
  },
  "language_info": {
   "codemirror_mode": {
    "name": "ipython",
    "version": 3
   },
   "file_extension": ".py",
   "mimetype": "text/x-python",
   "name": "python",
   "nbconvert_exporter": "python",
   "pygments_lexer": "ipython3",
   "version": "3.6.4"
  }
 },
 "nbformat": 4,
 "nbformat_minor": 2
}
